{
 "cells": [
  {
   "cell_type": "markdown",
   "id": "37845ba5",
   "metadata": {},
   "source": [
    "# Tipos de Datos Simples en Python\n",
    "\n",
    "En Python, los **tipos de datos simples** son las estructuras básicas que se utilizan para almacenar y manipular información. Estos tipos de datos son fundamentales para cualquier programa y permiten representar valores como números, texto y valores booleanos. A continuación, se describen los principales tipos de datos simples en Python:\n",
    "\n",
    "- **Enteros (`int`)**: Representan números enteros, positivos o negativos, sin parte decimal. Ejemplo: `5`, `-10`.\n",
    "- **Flotantes (`float`)**: Representan números con parte decimal. Ejemplo: `3.14`, `-0.5`.\n",
    "- **Cadenas de texto (`str`)**: Representan texto o secuencias de caracteres. Se delimitan con comillas simples (`'`) o dobles (`\"`). Ejemplo: `\"Hola, mundo\"`.\n",
    "- **Booleanos (`bool`)**: Representan valores de verdad, es decir, `True` (verdadero) o `False` (falso).\n",
    "- **Nulo (`NoneType`)**: Representa la ausencia de valor o un valor nulo. Se utiliza la palabra clave `None`.\n",
    "\n",
    "Estos tipos de datos son esenciales para construir programas y realizar operaciones básicas en Python.}\n",
    "\n",
    "# La función `type` en Python\n",
    "\n",
    "La función `type` se utiliza para determinar el tipo de dato de un objeto en Python. Es una herramienta útil para inspeccionar el tipo de una variable o valor en tiempo de ejecución.\n",
    "\n"
   ]
  },
  {
   "cell_type": "code",
   "execution_count": 2,
   "id": "3232cce7",
   "metadata": {},
   "outputs": [
    {
     "name": "stdout",
     "output_type": "stream",
     "text": [
      "Entero: 10 -> Tipo: <class 'int'>\n",
      "Flotante: 3.14 -> Tipo: <class 'float'>\n",
      "Cadena de texto: Hola, mundo -> Tipo: <class 'str'>\n",
      "Booleano: True -> Tipo: <class 'bool'>\n",
      "Nulo: None -> Tipo: <class 'NoneType'>\n"
     ]
    }
   ],
   "source": [
    "# Ejemplos de Tipos de Datos Simples en Python\n",
    "\n",
    "# Enteros (int)\n",
    "numero_entero = 10\n",
    "print(\"Entero:\", numero_entero, \"-> Tipo:\", type(numero_entero))\n",
    "\n",
    "# Flotantes (float)\n",
    "numero_flotante = 3.14\n",
    "print(\"Flotante:\", numero_flotante, \"-> Tipo:\", type(numero_flotante))\n",
    "\n",
    "# Cadenas de texto (str)\n",
    "cadena_texto = \"Hola, mundo\"\n",
    "print(\"Cadena de texto:\", cadena_texto, \"-> Tipo:\", type(cadena_texto))\n",
    "\n",
    "# Booleanos (bool)\n",
    "valor_booleano = True\n",
    "print(\"Booleano:\", valor_booleano, \"-> Tipo:\", type(valor_booleano))\n",
    "\n",
    "# Nulo (NoneType)\n",
    "valor_nulo = None\n",
    "print(\"Nulo:\", valor_nulo, \"-> Tipo:\", type(valor_nulo))"
   ]
  }
 ],
 "metadata": {
  "kernelspec": {
   "display_name": "Python 3",
   "language": "python",
   "name": "python3"
  },
  "language_info": {
   "codemirror_mode": {
    "name": "ipython",
    "version": 3
   },
   "file_extension": ".py",
   "mimetype": "text/x-python",
   "name": "python",
   "nbconvert_exporter": "python",
   "pygments_lexer": "ipython3",
   "version": "3.13.3"
  }
 },
 "nbformat": 4,
 "nbformat_minor": 5
}
