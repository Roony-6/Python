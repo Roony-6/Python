{
    "cells": [
        {
            "cell_type": "markdown",
            "metadata": {},
            "source": [
                "# Iteración y Control de Flujo: Bucles en Python\n",
                "\n",
                "Los bucles son estructuras que permiten ejecutar un bloque de código varias veces. En Python, los principales bucles son `for` y `while`."
            ]
        },
        {
            "cell_type": "markdown",
            "metadata": {},
            "source": [
                "## Bucle `for`\n",
                "El bucle `for` se utiliza para iterar sobre una secuencia (como una lista, tupla, cadena o rango) y ejecutar un bloque de código para cada elemento de la secuencia."
            ]
        },
        {
            "cell_type": "code",
            "execution_count": null,
            "metadata": {},
            "outputs": [
                {
                    "name": "stdout",
                    "output_type": "stream",
                    "text": [
                        "Me gusta la manzana\n",
                        "Me gusta la banana\n",
                        "Me gusta la cereza\n",
                        "1 2 3 4 5 6 7 8 9 \n",
                        "Número: 0\n",
                        "Número: 1\n",
                        "Número: 2\n",
                        "Número: 3\n",
                        "Número: 4\n"
                    ]
                }
            ],
            "source": [
                "# Ejemplo de bucle for con una lista\n",
                "frutas = [\"manzana\", \"banana\", \"cereza\"]\n",
                "numeros=[1,2,3,4,5,6,7,8,9]\n",
                "for fruta in frutas:\n",
                "    print(f\"Me gusta la {fruta}\")\n",
                "for numero in numeros:\n",
                "    print(numero,end)\n",
                "print()\n",
                "# Ejemplo de bucle for con un rango\n",
                "for i in range(5):\n",
                "    print(f\"Número: {i}\")"
            ]
        },
        {
            "cell_type": "markdown",
            "metadata": {},
            "source": [
                "## Bucle `while`\n",
                "El bucle `while` se utiliza para ejecutar un bloque de código mientras una condición sea verdadera. Es útil cuando no se conoce de antemano el número de iteraciones necesarias."
            ]
        },
        {
            "cell_type": "code",
            "execution_count": 2,
            "metadata": {},
            "outputs": [
                {
                    "name": "stdout",
                    "output_type": "stream",
                    "text": [
                        "Contador: 0\n",
                        "Contador: 1\n",
                        "Contador: 2\n",
                        "Contador: 3\n",
                        "Contador: 4\n"
                    ]
                }
            ],
            "source": [
                "# Ejemplo de bucle while\n",
                "contador = 0\n",
                "while contador < 5:\n",
                "    print(f\"Contador: {contador}\")\n",
                "    contador += 1"
            ]
        },
        {
            "cell_type": "markdown",
            "metadata": {},
            "source": [
                "## Notas importantes\n",
                "- Los bucles `for` son ideales para iterar sobre secuencias conocidas.\n",
                "- Los bucles `while` son útiles cuando la condición de parada depende de cálculos o eventos externos.\n",
                "- Es importante asegurarse de que los bucles tengan una condición de parada para evitar bucles infinitos."
            ]
        }
    ],
    "metadata": {
        "kernelspec": {
            "display_name": "Python 3",
            "language": "python",
            "name": "python3"
        },
        "language_info": {
            "codemirror_mode": {
                "name": "ipython",
                "version": 3
            },
            "file_extension": ".py",
            "mimetype": "text/x-python",
            "name": "python",
            "nbconvert_exporter": "python",
            "pygments_lexer": "ipython3",
            "version": "3.13.3"
        }
    },
    "nbformat": 4,
    "nbformat_minor": 4
}
