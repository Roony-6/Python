{
    "cells": [
        {
            "cell_type": "markdown",
            "metadata": {},
            "source": [
                "# Entrada de Datos y Manejo de Tipos de Datos en Python\n",
                "\n",
                "En Python, la entrada de datos se realiza principalmente con la función `input()`. Los datos ingresados por el usuario siempre se reciben como cadenas de texto (`str`), por lo que es importante manejar los tipos de datos y realizar conversiones (casting) cuando sea necesario."
            ]
        },
        {
            "cell_type": "markdown",
            "metadata": {},
            "source": [
                "## 1. Entrada de Datos con `input()`\n",
                "\n",
                "La función `input()` permite al usuario ingresar datos desde la consola. Por defecto, el valor ingresado se almacena como una cadena de texto.\n"
            ]
        },
        {
            "cell_type": "code",
            "execution_count": 17,
            "id": "d3fe2809",
            "metadata": {},
            "outputs": [
                {
                    "name": "stdout",
                    "output_type": "stream",
                    "text": [
                        "Hola, Roony!\n"
                    ]
                }
            ],
            "source": [
                "# Ejemplo básico de entrada de datos\n",
                "nombre = input(\"¿Cuál es tu nombre? \")\n",
                "print(f\"Hola, {nombre}!\")"
            ]
        },
        {
            "cell_type": "markdown",
            "metadata": {},
            "source": [
                "## 2. Manejo de Tipos de Datos\n",
                "\n",
                "En Python, cada variable tiene un tipo de dato asociado. Puedes verificar el tipo de una variable usando la función `type()`."
            ]
        },
        {
            "cell_type": "code",
            "execution_count": 18,
            "id": "a3b69a7a",
            "metadata": {},
            "outputs": [
                {
                    "name": "stdout",
                    "output_type": "stream",
                    "text": [
                        "<class 'int'>\n",
                        "<class 'float'>\n",
                        "<class 'str'>\n",
                        "<class 'bool'>\n"
                    ]
                }
            ],
            "source": [
                "# Ejemplo de tipos de datos\n",
                "x = 10          # Entero (int)\n",
                "y = 3.14        # Flotante (float)\n",
                "z = \"Hola\"      # Cadena de texto (str)\n",
                "b = True        # Booleano (bool)\n",
                "\n",
                "print(type(x))  # <class 'int'>\n",
                "print(type(y))  # <class 'float'>\n",
                "print(type(z))  # <class 'str'>\n",
                "print(type(b))  # <class 'bool'>"
            ]
        },
        {
            "cell_type": "markdown",
            "metadata": {},
            "source": [
                "## 3. Conversión de Tipos de Datos (Casting)\n",
                "\n",
                "El casting se utiliza para convertir un tipo de dato en otro. Esto es útil cuando necesitas realizar operaciones con tipos específicos."
            ]
        },
        {
            "cell_type": "markdown",
            "metadata": {},
            "source": [
                "### Conversión a Entero (`int`)\n",
                "\n",
                "Convierte una cadena o un número flotante a un entero. Si la cadena no representa un número válido, se generará un error."
            ]
        },
        {
            "cell_type": "code",
            "execution_count": 19,
            "id": "98780faa",
            "metadata": {},
            "outputs": [
                {
                    "name": "stdout",
                    "output_type": "stream",
                    "text": [
                        "El próximo año tendrás 20 años.\n"
                    ]
                }
            ],
            "source": [
                "# Conversión a entero\n",
                "edad = input(\"¿Cuál es tu edad? \")\n",
                "edad = int(edad)  # Convertir a entero\n",
                "print(f\"El próximo año tendrás {edad + 1} años.\")"
            ]
        },
        {
            "cell_type": "markdown",
            "metadata": {},
            "source": [
                "### Conversión a Flotante (`float`)\n",
                "\n",
                "Convierte una cadena o un entero a un número flotante."
            ]
        },
        {
            "cell_type": "code",
            "execution_count": 20,
            "id": "63946c46",
            "metadata": {},
            "outputs": [
                {
                    "name": "stdout",
                    "output_type": "stream",
                    "text": [
                        "Tu altura es 1.77 metros.\n"
                    ]
                }
            ],
            "source": [
                "# Conversión a flotante\n",
                "altura = input(\"¿Cuál es tu altura en metros? \")\n",
                "altura = float(altura)  # Convertir a flotante\n",
                "print(f\"Tu altura es {altura} metros.\")"
            ]
        },
        {
            "cell_type": "markdown",
            "metadata": {},
            "source": [
                "### Conversión a Cadena (`str`)\n",
                "\n",
                "Convierte cualquier tipo de dato a una cadena de texto."
            ]
        },
        {
            "cell_type": "code",
            "execution_count": 21,
            "id": "61b875f6",
            "metadata": {},
            "outputs": [
                {
                    "name": "stdout",
                    "output_type": "stream",
                    "text": [
                        "El número como texto es: 123\n"
                    ]
                }
            ],
            "source": [
                "# Conversión a cadena\n",
                "numero = 123\n",
                "texto = str(numero)  # Convertir a cadena\n",
                "print(f\"El número como texto es: {texto}\")"
            ]
        },
        {
            "cell_type": "markdown",
            "metadata": {},
            "source": [
                "### Conversión a Booleano (`bool`)\n",
                "\n",
                "Convierte un valor a booleano. En Python, los valores vacíos o `0` se consideran `False`, mientras que los demás se consideran `True`."
            ]
        },
        {
            "cell_type": "code",
            "execution_count": 22,
            "id": "a98a9d63",
            "metadata": {},
            "outputs": [
                {
                    "name": "stdout",
                    "output_type": "stream",
                    "text": [
                        "False\n",
                        "True\n"
                    ]
                }
            ],
            "source": [
                "# Conversión a booleano\n",
                "valor = \"\"\n",
                "print(bool(valor))  # False\n",
                "\n",
                "valor = \"Python\"\n",
                "print(bool(valor))  # True"
            ]
        },
        {
            "cell_type": "markdown",
            "metadata": {},
            "source": [
                "## 4. Ejemplo Completo: Entrada y Manejo de Tipos de Datos\n"
            ]
        },
        {
            "cell_type": "code",
            "execution_count": 23,
            "id": "6234d073",
            "metadata": {},
            "outputs": [
                {
                    "name": "stdout",
                    "output_type": "stream",
                    "text": [
                        "Hola, Roony. Tienes 19 años y mides 1.77 metros.\n"
                    ]
                }
            ],
            "source": [
                "# Programa que solicita datos al usuario y realiza conversiones\n",
                "nombre = input(\"¿Cuál es tu nombre? \")\n",
                "edad = int(input(\"¿Cuál es tu edad? \"))\n",
                "altura = float(input(\"¿Cuál es tu altura en metros? \"))\n",
                "\n",
                "print(f\"Hola, {nombre}. Tienes {edad} años y mides {altura} metros.\")"
            ]
        },
        {
            "cell_type": "markdown",
            "metadata": {},
            "source": [
                "## 5. Notas Importantes\n",
                "\n",
                "- **Errores de Conversión:** Si intentas convertir una cadena que no representa un número válido, Python generará un error. Por ejemplo, `int(\"abc\")` producirá un `ValueError`.\n",
                "- **Validación de Entrada:** Es una buena práctica validar los datos ingresados por el usuario antes de realizar conversiones."
            ]
        },
        {
            "cell_type": "code",
            "execution_count": 24,
            "id": "7d3503c5",
            "metadata": {},
            "outputs": [
                {
                    "name": "stdout",
                    "output_type": "stream",
                    "text": [
                        "El doble de tu número es 12.\n"
                    ]
                }
            ],
            "source": [
                "# Validación de entrada\n",
                "entrada = input(\"Ingresa un número: \")\n",
                "if entrada.isdigit():\n",
                "    numero = int(entrada)\n",
                "    print(f\"El doble de tu número es {numero * 2}.\")\n",
                "else:\n",
                "    print(\"Por favor, ingresa un número válido.\")"
            ]
        }
    ],
    "metadata": {
        "kernelspec": {
            "display_name": "Python 3",
            "language": "python",
            "name": "python3"
        },
        "language_info": {
            "codemirror_mode": {
                "name": "ipython",
                "version": 3
            },
            "file_extension": ".py",
            "mimetype": "text/x-python",
            "name": "python",
            "nbconvert_exporter": "python",
            "pygments_lexer": "ipython3",
            "version": "3.13.3"
        }
    },
    "nbformat": 4,
    "nbformat_minor": 5
}
