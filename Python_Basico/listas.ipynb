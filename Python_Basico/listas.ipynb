{
    "cells": [
        {
            "cell_type": "markdown",
            "metadata": {
                "id": "176d44c7",
                "language": "markdown"
            },
            "source": [
                "# Listas en Python\n",
                "\n",
                "Las listas son una de las estructuras de datos más utilizadas en Python. Son colecciones ordenadas y mutables que permiten almacenar múltiples elementos, los cuales pueden ser de diferentes tipos (números, cadenas, objetos, etc.).\n",
                "\n",
                "En este notebook, aprenderemos:\n",
                "- Qué son las listas y cómo crearlas.\n",
                "- Cómo acceder a elementos específicos utilizando índices y slicing.\n",
                "- Métodos importantes que se pueden usar con listas."
            ]
        },
        {
            "cell_type": "markdown",
            "metadata": {
                "id": "3775417c",
                "language": "markdown"
            },
            "source": [
                "## Cómo acceder a los elementos de una lista\n",
                "\n",
                "Podemos acceder a los elementos de una lista utilizando índices. Los índices en Python comienzan desde `0` para el primer elemento y pueden ser negativos para acceder desde el final de la lista.\n",
                "\n",
                "Por ejemplo:"
            ]
        },
        {
            "cell_type": "code",
            "execution_count": 17,
            "metadata": {
                "id": "3dfd73bc",
                "language": "python"
            },
            "outputs": [
                {
                    "name": "stdout",
                    "output_type": "stream",
                    "text": [
                        "Primer elemento: 10\n",
                        "Último elemento: 50\n"
                    ]
                }
            ],
            "source": [
                "# Acceder a elementos de una lista\n",
                "mi_lista = [10, 20, 30, 40, 50]\n",
                "\n",
                "# Primer elemento\n",
                "print(\"Primer elemento:\", mi_lista[0])\n",
                "\n",
                "# Último elemento\n",
                "print(\"Último elemento:\", mi_lista[-1])"
            ]
        },
        {
            "cell_type": "markdown",
            "metadata": {
                "id": "new-slicing-section",
                "language": "markdown"
            },
            "source": [
                "## Slicing en listas\n",
                "\n",
                "El slicing es una técnica que nos permite acceder a un subconjunto de elementos de una lista. La sintaxis básica es:\n",
                "\n",
                "```python\n",
                "lista[inicio:fin:paso]\n",
                "```\n",
                "\n",
                "- `inicio`: Índice donde comienza el slice (incluido).\n",
                "- `fin`: Índice donde termina el slice (excluido).\n",
                "- `paso`: Número de elementos a saltar (opcional).\n",
                "\n",
                "Si se omiten los valores, Python usa los valores predeterminados:\n",
                "- `inicio`: 0 (inicio de la lista).\n",
                "- `fin`: Longitud de la lista.\n",
                "- `paso`: 1 (sin saltos).\n",
                "\n",
                "Veamos algunos ejemplos:"
            ]
        },
        {
            "cell_type": "code",
            "execution_count": 18,
            "metadata": {
                "id": "slicing-examples",
                "language": "python"
            },
            "outputs": [
                {
                    "name": "stdout",
                    "output_type": "stream",
                    "text": [
                        "Primeros 5 elementos: [0, 1, 2, 3, 4]\n",
                        "Últimos 3 elementos: [7, 8, 9]\n",
                        "Elementos con paso de 2: [0, 2, 4, 6, 8]\n",
                        "Lista invertida: [9, 8, 7, 6, 5, 4, 3, 2, 1, 0]\n"
                    ]
                }
            ],
            "source": [
                "# Ejemplo de slicing\n",
                "numeros = [0, 1, 2, 3, 4, 5, 6, 7, 8, 9]\n",
                "\n",
                "# Obtener los primeros 5 elementos\n",
                "print(\"Primeros 5 elementos:\", numeros[:5])\n",
                "\n",
                "# Obtener los últimos 3 elementos\n",
                "print(\"Últimos 3 elementos:\", numeros[-3:])\n",
                "\n",
                "# Obtener elementos con un paso de 2\n",
                "print(\"Elementos con paso de 2:\", numeros[::2])\n",
                "\n",
                "# Revertir la lista\n",
                "print(\"Lista invertida:\", numeros[::-1])"
            ]
        },
        {
            "cell_type": "markdown",
            "metadata": {
                "id": "dcaa3c8b",
                "language": "markdown"
            },
            "source": [
                "## Métodos importantes de las listas\n",
                "\n",
                "Python ofrece varios métodos útiles para trabajar con listas. A continuación, se describen algunos de los más comunes:\n",
                "\n",
                "- `append(elemento)`: Agrega un elemento al final de la lista.\n",
                "- `extend(iterable)`: Agrega múltiples elementos al final de la lista.\n",
                "- `insert(indice, elemento)`: Inserta un elemento en una posición específica.\n",
                "- `remove(elemento)`: Elimina la primera aparición de un elemento.\n",
                "- `pop(indice)`: Elimina y devuelve el elemento en el índice especificado (por defecto, el último).\n",
                "- `del lista[indice]`: Elimina un elemento en un índice específico.\n",
                "- `max(lista)`: Devuelve el valor máximo de la lista.\n",
                "- `min(lista)`: Devuelve el valor mínimo de la lista.\n",
                "- `sort()`: Ordena la lista en orden ascendente.\n",
                "- `reverse()`: Invierte el orden de los elementos en la lista.\n",
                "- `index(elemento)`: Devuelve el índice de la primera aparición de un elemento.\n",
                "- `count(elemento)`: Devuelve el número de veces que un elemento aparece en la lista."
            ]
        },
        {
            "cell_type": "code",
            "execution_count": 19,
            "metadata": {
                "id": "79882b0a",
                "language": "python"
            },
            "outputs": [
                {
                    "name": "stdout",
                    "output_type": "stream",
                    "text": [
                        "[3, 1, 4, 1, 5, 9, 2]\n",
                        "[3, 1, 4, 1, 5, 9, 2, 6, 7]\n",
                        "[3, 1, 4, 8, 1, 5, 9, 2, 6, 7]\n",
                        "[3, 4, 8, 1, 5, 9, 2, 6, 7]\n",
                        "Elemento eliminado con pop: 7\n",
                        "Lista después de pop: [3, 4, 8, 1, 5, 9, 2, 6]\n",
                        "Después de eliminar el índice 2: [3, 4, 1, 5, 9, 2, 6]\n",
                        "Valor máximo: 9\n",
                        "Valor mínimo: 1\n",
                        "[1, 2, 3, 4, 5, 6, 9]\n",
                        "[9, 6, 5, 4, 3, 2, 1]\n",
                        "1\n",
                        "1\n"
                    ]
                }
            ],
            "source": [
                "# Ejemplos de métodos adicionales\n",
                "mi_lista = [3, 1, 4, 1, 5, 9]\n",
                "\n",
                "# Agregar un elemento al final de la lista\n",
                "mi_lista.append(2)\n",
                "print(mi_lista)\n",
                "\n",
                "# Extender una lista\n",
                "mi_lista.extend([6,7])\n",
                "print(mi_lista)\n",
                "\n",
                "# Insertamos un elemento en una posicion especifica\n",
                "mi_lista.insert(3,8)\n",
                "print(mi_lista)\n",
                "\n",
                "# Elimina la primera ocurrencia de un elemento\n",
                "mi_lista.remove(1)\n",
                "print(mi_lista)\n",
                "\n",
                "# Usar pop para eliminar y devolver el último elemento\n",
                "ultimo_elemento = mi_lista.pop()\n",
                "print(\"Elemento eliminado con pop:\", ultimo_elemento)\n",
                "print(\"Lista después de pop:\", mi_lista)\n",
                "\n",
                "# Eliminar un elemento usando del\n",
                "del mi_lista[2]\n",
                "print(\"Después de eliminar el índice 2:\", mi_lista)\n",
                "\n",
                "# Obtener el valor máximo y mínimo\n",
                "print(\"Valor máximo:\", max(mi_lista))\n",
                "print(\"Valor mínimo:\", min(mi_lista))\n",
                "\n",
                "# Ordenar lista ascendente}\n",
                "mi_lista.sort()\n",
                "print(mi_lista)\n",
                "\n",
                "# Invierte el oreden los elementos de la lista\n",
                "mi_lista.reverse()\n",
                "print(mi_lista)\n",
                "\n",
                "# Obtenemos el indice de un elemento\n",
                "indice=mi_lista.index(6)\n",
                "print(indice)\n",
                "\n",
                "# Obtenemos el numero de ocurrencias de un elemento\n",
                "n=mi_lista.count(1)\n",
                "print(n)\n",
                "\n",
                "\n"
            ]
        },
        {
            "cell_type": "markdown",
            "metadata": {
                "id": "6987ab23",
                "language": "markdown"
            },
            "source": [
                "## Conclusión\n",
                "\n",
                "Las listas en Python nos facilitan la tarea de manipular y almacenar datos diversos de manera estructurada y eficiente."
            ]
        }
    ],
    "metadata": {
        "language_info": {
            "name": "python"
        }
    },
    "nbformat": 4,
    "nbformat_minor": 5
}
