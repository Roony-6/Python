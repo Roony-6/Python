{
    "cells": [
        {
            "cell_type": "markdown",
            "metadata": {
                "id": "intro-ia-ciencia-datos"
            },
            "source": [
                "# Introducción a los Diccionarios en Python\n",
                "\n",
                "Los diccionarios son una estructura de datos fundamental en Python que se utilizan ampliamente en diversos campos como la inteligencia artificial, la ciencia de datos y la programación en general. Su capacidad para almacenar datos en pares clave-valor los hace ideales para resolver problemas donde se necesita acceso rápido y eficiente a la información.\n",
                "\n",
                "### Usos comunes de los diccionarios:\n",
                "- **Inteligencia Artificial (IA):**\n",
                "  - Representar configuraciones de modelos o hiperparámetros.\n",
                "  - Almacenar resultados de predicciones o métricas de evaluación.\n",
                "  - Mapear etiquetas a clases en problemas de clasificación.\n",
                "\n",
                "- **Ciencia de Datos:**\n",
                "  - Almacenar estadísticas descriptivas de conjuntos de datos.\n",
                "  - Crear estructuras de datos personalizadas para análisis específicos.\n",
                "  - Mapear valores categóricos a descripciones o códigos.\n",
                "\n",
                "- **Programación General:**\n",
                "  - Implementar tablas de búsqueda o índices.\n",
                "  - Almacenar configuraciones de aplicaciones.\n",
                "  - Gestionar datos estructurados como JSON o respuestas de APIs.\n"
            ]
        },
        {
            "cell_type": "markdown",
            "metadata": {},
            "source": [
                "# Diccionarios en Python\n",
                "\n",
                "Un diccionario es una colección desordenada, modificable e indexada de pares clave-valor. En Python, los diccionarios se definen utilizando llaves `{}`."
            ]
        },
        {
            "cell_type": "markdown",
            "metadata": {},
            "source": [
                "## Crear un diccionario\n",
                "Puedes crear un diccionario utilizando llaves `{}` y separando las claves y valores con dos puntos `:`."
            ]
        },
        {
            "cell_type": "code",
            "execution_count": 1,
            "metadata": {},
            "outputs": [
                {
                    "name": "stdout",
                    "output_type": "stream",
                    "text": [
                        "{'nombre': 'Juan', 'edad': 25, 'ciudad': 'Madrid'}\n"
                    ]
                }
            ],
            "source": [
                "# Ejemplo de un diccionario\n",
                "mi_diccionario = {\n",
                "    \"nombre\": \"Juan\",\n",
                "    \"edad\": 25,\n",
                "    \"ciudad\": \"Madrid\"\n",
                "}\n",
                "print(mi_diccionario)"
            ]
        },
        {
            "cell_type": "markdown",
            "metadata": {},
            "source": [
                "## Acceder a valores\n",
                "Puedes acceder a los valores de un diccionario utilizando su clave."
            ]
        },
        {
            "cell_type": "code",
            "execution_count": 2,
            "metadata": {},
            "outputs": [
                {
                    "name": "stdout",
                    "output_type": "stream",
                    "text": [
                        "Juan\n",
                        "25\n"
                    ]
                }
            ],
            "source": [
                "# Acceder a un valor por su clave\n",
                "print(mi_diccionario[\"nombre\"])  # Salida: Juan\n",
                "print(mi_diccionario.get(\"edad\"))  # Salida: 25"
            ]
        },
        {
            "cell_type": "markdown",
            "metadata": {},
            "source": [
                "## Modificar valores\n",
                "Puedes modificar un valor asignando un nuevo valor a una clave existente."
            ]
        },
        {
            "cell_type": "code",
            "execution_count": 3,
            "metadata": {},
            "outputs": [
                {
                    "name": "stdout",
                    "output_type": "stream",
                    "text": [
                        "{'nombre': 'Juan', 'edad': 26, 'ciudad': 'Madrid'}\n"
                    ]
                }
            ],
            "source": [
                "# Modificar un valor\n",
                "mi_diccionario[\"edad\"] = 26\n",
                "print(mi_diccionario)"
            ]
        },
        {
            "cell_type": "markdown",
            "metadata": {},
            "source": [
                "## Agregar elementos\n",
                "Puedes agregar un nuevo par clave-valor simplemente asignándolo."
            ]
        },
        {
            "cell_type": "code",
            "execution_count": 4,
            "metadata": {},
            "outputs": [
                {
                    "name": "stdout",
                    "output_type": "stream",
                    "text": [
                        "{'nombre': 'Juan', 'edad': 26, 'ciudad': 'Madrid', 'profesión': 'Ingeniero'}\n"
                    ]
                }
            ],
            "source": [
                "# Agregar un nuevo par clave-valor\n",
                "mi_diccionario[\"profesión\"] = \"Ingeniero\"\n",
                "print(mi_diccionario)"
            ]
        },
        {
            "cell_type": "markdown",
            "metadata": {},
            "source": [
                "## Eliminar elementos\n",
                "Puedes eliminar elementos utilizando `del` o el método `pop`."
            ]
        },
        {
            "cell_type": "code",
            "execution_count": 5,
            "metadata": {},
            "outputs": [
                {
                    "name": "stdout",
                    "output_type": "stream",
                    "text": [
                        "{'nombre': 'Juan', 'edad': 26, 'profesión': 'Ingeniero'}\n",
                        "Edad eliminada: 26\n",
                        "{'nombre': 'Juan', 'profesión': 'Ingeniero'}\n"
                    ]
                }
            ],
            "source": [
                "# Eliminar un elemento\n",
                "del mi_diccionario[\"ciudad\"]\n",
                "print(mi_diccionario)\n",
                "\n",
                "# Usar pop para eliminar y obtener el valor eliminado\n",
                "edad = mi_diccionario.pop(\"edad\")\n",
                "print(\"Edad eliminada:\", edad)\n",
                "print(mi_diccionario)"
            ]
        },
        {
            "cell_type": "markdown",
            "metadata": {},
            "source": [
                "## Iterar sobre un diccionario\n",
                "Puedes iterar sobre las claves, valores o ambos utilizando métodos como `keys()`, `values()` y `items()`."
            ]
        },
        {
            "cell_type": "code",
            "execution_count": 6,
            "metadata": {},
            "outputs": [
                {
                    "name": "stdout",
                    "output_type": "stream",
                    "text": [
                        "nombre\n",
                        "profesión\n",
                        "Juan\n",
                        "Ingeniero\n",
                        "nombre: Juan\n",
                        "profesión: Ingeniero\n"
                    ]
                }
            ],
            "source": [
                "# Iterar sobre claves\n",
                "for clave in mi_diccionario.keys():\n",
                "    print(clave)\n",
                "\n",
                "# Iterar sobre valores\n",
                "for valor in mi_diccionario.values():\n",
                "    print(valor)\n",
                "\n",
                "# Iterar sobre claves y valores\n",
                "for clave, valor in mi_diccionario.items():\n",
                "    print(f\"{clave}: {valor}\")"
            ]
        },
        {
            "cell_type": "markdown",
            "metadata": {},
            "source": [
                "## Métodos útiles\n",
                "Algunos métodos útiles para trabajar con diccionarios son:\n",
                "- `clear()`: Vacía el diccionario.\n",
                "- `copy()`: Devuelve una copia del diccionario.\n",
                "- `update()`: Actualiza el diccionario con otro diccionario o pares clave-valor."
            ]
        },
        {
            "cell_type": "code",
            "execution_count": 7,
            "metadata": {},
            "outputs": [
                {
                    "name": "stdout",
                    "output_type": "stream",
                    "text": [
                        "{'nombre': 'Juan', 'profesión': 'Ingeniero', 'pais': 'España'}\n",
                        "{}\n"
                    ]
                }
            ],
            "source": [
                "# Ejemplo de métodos útiles\n",
                "nuevo_diccionario = mi_diccionario.copy()\n",
                "nuevo_diccionario.update({\"pais\": \"España\"})\n",
                "print(nuevo_diccionario)\n",
                "\n",
                "mi_diccionario.clear()\n",
                "print(mi_diccionario)  # Salida: {}"
            ]
        }
    ],
    "metadata": {
        "kernelspec": {
            "display_name": "Python 3",
            "language": "python",
            "name": "python3"
        },
        "language_info": {
            "codemirror_mode": {
                "name": "ipython",
                "version": 3
            },
            "file_extension": ".py",
            "mimetype": "text/x-python",
            "name": "python",
            "nbconvert_exporter": "python",
            "pygments_lexer": "ipython3",
            "version": "3.13.3"
        }
    },
    "nbformat": 4,
    "nbformat_minor": 4
}
