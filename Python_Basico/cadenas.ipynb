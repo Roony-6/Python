{
 "cells": [
  {
   "cell_type": "markdown",
   "id": "24a2e801",
   "metadata": {},
   "source": [
    "# Cadenas\n",
    "Las **cadenas de texto** (*strings*) en Python son un tipo de dato fundamental, especialmente útiles en áreas como la **limpieza de datos**, el **análisis de texto** (*text mining*) y en tareas de **Procesamiento de Lenguaje Natural (NLP)**.\n",
    "Aprender a manipular cadenas correctamente es crucial para trabajar con:\n",
    "- Datos no estructurados (como encuestas, tweets, correos, etc.).\n",
    "- Nombres de columnas en DataFrames.\n",
    "- Preprocesamiento de texto antes de aplicar modelos de IA.\n",
    "- Extracción de información útil en textos.\n",
    "\n",
    "## Objetivos de esta sección:\n",
    "- Entender qué es una cadena (*string*) en Python.\n",
    "- Aprender cómo crear, acceder y modificar cadenas.\n",
    "- Conocer los métodos más comunes para limpiar y procesar texto.\n",
    "- Aplicar estos conocimientos en ejemplos orientados a datos reales.\n",
    "\n",
    "> 📝 *Nota: Estas habilidades son clave para tareas como la tokenización de texto, análisis de sentimientos, detección de patrones y más.*\n",
    "\n"
   ]
  },
  {
   "cell_type": "markdown",
   "id": "7aff7aee",
   "metadata": {},
   "source": [
    "## Conceptos Básicos de Cadenas\n",
    "\n",
    "### 1. Creación de Cadenas\n",
    "Las cadenas en Python se pueden crear usando comillas simples (`'`), comillas dobles (`\"`) o triples (`'''` o `\"\"\"`).\n",
    "\n",
    "```python\n",
    "# Ejemplos de creación de cadenas\n",
    "cadena1 = 'Hola Mundo'\n",
    "cadena2 = \"Python es genial\"\n",
    "cadena3 = '''Esta es una cadena\n",
    "que ocupa varias líneas'''"
   ]
  },
  {
   "cell_type": "markdown",
   "id": "b811ea1c",
   "metadata": {},
   "source": [
    "### 2. Indexación\n",
    "Las cadenas son secuencias ordenadas, lo que significa que puedes acceder a sus elementos usando índices. Los índices comienzan en 0."
   ]
  },
  {
   "cell_type": "code",
   "execution_count": 1,
   "id": "24acb0d7",
   "metadata": {},
   "outputs": [
    {
     "name": "stdout",
     "output_type": "stream",
     "text": [
      "P\n",
      "n\n"
     ]
    }
   ],
   "source": [
    "cadena = 'Python'\n",
    "print(cadena[0])  # P\n",
    "print(cadena[-1]) # n (índice negativo para acceder desde el final)"
   ]
  },
  {
   "cell_type": "markdown",
   "id": "d5eb2cc5",
   "metadata": {},
   "source": [
    "### 3. Modificación de Cadenas\n",
    "Las cadenas en Python son inmutables, lo que significa que no se pueden modificar directamente. Sin embargo, puedes crear nuevas cadenas basadas en las existentes"
   ]
  },
  {
   "cell_type": "code",
   "execution_count": 2,
   "id": "6e72ea09",
   "metadata": {},
   "outputs": [
    {
     "name": "stdout",
     "output_type": "stream",
     "text": [
      "Jython\n"
     ]
    }
   ],
   "source": [
    "cadena = 'Python'\n",
    "nueva_cadena = cadena.replace('P', 'J')\n",
    "print(nueva_cadena)  # Jython"
   ]
  },
  {
   "cell_type": "markdown",
   "id": "08ea4327",
   "metadata": {},
   "source": [
    "### 4. Concatenación\n",
    "Puedes unir cadenas usando el operador + o multiplicarlas con *."
   ]
  },
  {
   "cell_type": "code",
   "execution_count": 3,
   "id": "eb7e4de7",
   "metadata": {},
   "outputs": [
    {
     "name": "stdout",
     "output_type": "stream",
     "text": [
      "Hola Mundo\n",
      "Python Python Python \n"
     ]
    }
   ],
   "source": [
    "cadena1 = 'Hola'\n",
    "cadena2 = 'Mundo'\n",
    "resultado = cadena1 + ' ' + cadena2\n",
    "print(resultado)  # Hola Mundo\n",
    "\n",
    "repetida = 'Python ' * 3\n",
    "print(repetida)  # Python Python Python"
   ]
  },
  {
   "cell_type": "markdown",
   "id": "12a1f7de",
   "metadata": {},
   "source": [
    "## Métodos Comunes de Cadenas\n",
    "\n",
    "### 1. Métodos para Modificar el Texto\n",
    "- **`lower()`**: Convierte todos los caracteres a minúsculas.\n",
    "- **`upper()`**: Convierte todos los caracteres a mayúsculas.\n",
    "- **`capitalize()`**: Convierte el primer carácter a mayúscula.\n",
    "- **`title()`**: Convierte el primer carácter de cada palabra a mayúscula.\n",
    "- **`strip()`**: Elimina los espacios en blanco al inicio y al final de la cadena.\n",
    "- **`replace(old, new)`**: Reemplaza todas las ocurrencias de `old` por `new`.\n",
    "\n"
   ]
  },
  {
   "cell_type": "code",
   "execution_count": 4,
   "id": "6853ea5b",
   "metadata": {},
   "outputs": [
    {
     "name": "stdout",
     "output_type": "stream",
     "text": [
      "  hola mundo  \n",
      "  HOLA MUNDO  \n",
      "Hola Mundo\n",
      "  Adiós Mundo  \n"
     ]
    }
   ],
   "source": [
    "\n",
    "cadena = \"  Hola Mundo  \"\n",
    "print(cadena.lower())      # \"  hola mundo  \"\n",
    "print(cadena.upper())      # \"  HOLA MUNDO  \"\n",
    "print(cadena.strip())      # \"Hola Mundo\"\n",
    "print(cadena.replace(\"Hola\", \"Adiós\"))  # \"  Adiós Mundo  \""
   ]
  },
  {
   "cell_type": "markdown",
   "id": "f60d69a8",
   "metadata": {},
   "source": [
    "### 2. Métodos para Buscar y Validar\n",
    "- **`find(sub)`**: Devuelve el índice de la primera aparición de sub. Retorna -1 si no se encuentra.\n",
    "- **`index(sub)`**: Similar a find(), pero lanza un error si no se encuentra.\n",
    "- **`startswith(prefix)`**: Devuelve True si la cadena comienza con prefix.\n",
    "- **`endswith(suffix)`**: Devuelve True si la cadena termina con suffix.\n",
    "- **`isalpha()`**: Devuelve True si todos los caracteres son letras.\n",
    "- **`isdigit()`**: Devuelve True si todos los caracteres son dígitos.\n",
    "- **`isalnum()`**: Devuelve True si todos los caracteres son alfanuméricos.\n",
    "\n"
   ]
  },
  {
   "cell_type": "code",
   "execution_count": 5,
   "id": "d2aeef27",
   "metadata": {},
   "outputs": [
    {
     "name": "stdout",
     "output_type": "stream",
     "text": [
      "6\n",
      "True\n",
      "False\n",
      "False\n"
     ]
    }
   ],
   "source": [
    "cadena = \"Python3\"\n",
    "print(cadena.find(\"3\"))       # 6\n",
    "print(cadena.startswith(\"Py\"))  # True\n",
    "print(cadena.isalpha())       # False\n",
    "print(cadena.isdigit())       # False"
   ]
  },
  {
   "cell_type": "markdown",
   "id": "a552ed95",
   "metadata": {},
   "source": [
    "### 3. Métodos para Dividir y Unir\n",
    "- *split(sep)*: Divide la cadena en una lista usando sep como separador.\n",
    "- *join(iterable)*: Une los elementos de un iterable en una cadena, usando la cadena actual como separador."
   ]
  },
  {
   "cell_type": "code",
   "execution_count": 9,
   "id": "5f65551e",
   "metadata": {},
   "outputs": [
    {
     "name": "stdout",
     "output_type": "stream",
     "text": [
      "['Hola', 'Mundo', 'Python']\n",
      "Hola Mundo Python\n",
      "3\n",
      "6\n"
     ]
    }
   ],
   "source": [
    "cadena = \"Hola,Mundo,Python\"\n",
    "lista = cadena.split(\",\")  # [\"Hola\", \"Mundo\", \"Python\"]\n",
    "print(lista)\n",
    "\n",
    "nueva_cadena = \" \".join(lista)  # \"Hola Mundo Python\"\n",
    "print(nueva_cadena)\n",
    "cadena = \"banana\"\n",
    "print(cadena.count(\"a\"))  # 3\n",
    "print(len(cadena))        # 6"
   ]
  },
  {
   "cell_type": "markdown",
   "id": "a0a5af96",
   "metadata": {},
   "source": [
    "### Otros metodos útiles  \n",
    "- **count(sub)**: Cuenta cuántas veces aparece sub en la cadena.\n",
    "- **len()**: Devuelve la longitud de la cadena (no es un método, pero es muy usado)."
   ]
  },
  {
   "cell_type": "code",
   "execution_count": 10,
   "id": "81dfc956",
   "metadata": {},
   "outputs": [
    {
     "name": "stdout",
     "output_type": "stream",
     "text": [
      "3\n",
      "6\n"
     ]
    }
   ],
   "source": [
    "cadena = \"banana\"\n",
    "print(cadena.count(\"a\"))  # 3\n",
    "print(len(cadena))        # 6"
   ]
  }
 ],
 "metadata": {
  "kernelspec": {
   "display_name": "Python 3",
   "language": "python",
   "name": "python3"
  },
  "language_info": {
   "codemirror_mode": {
    "name": "ipython",
    "version": 3
   },
   "file_extension": ".py",
   "mimetype": "text/x-python",
   "name": "python",
   "nbconvert_exporter": "python",
   "pygments_lexer": "ipython3",
   "version": "3.13.3"
  }
 },
 "nbformat": 4,
 "nbformat_minor": 5
}
