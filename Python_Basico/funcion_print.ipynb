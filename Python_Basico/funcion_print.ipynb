{
    "cells": [
        {
            "cell_type": "markdown",
            "metadata": {},
            "source": [
                "# La función `print` en Python\n",
                "\n",
                "La función incorporada `print` puede parecer básica al principio, pero es una herramienta fundamental que usarás de múltiples maneras a lo largo de tu código. Desde el icónico “Hola mundo” hasta mensajes de depuración y presentación de resultados, `print` es la puerta de entrada a la comunicación de tus programas con el mundo exterior."
            ]
        },
        {
            "cell_type": "markdown",
            "metadata": {},
            "source": [
                "## 1. Uso básico de `print`\n",
                "\n",
                "El uso más sencillo de `print` consiste en pasar el texto que deseas mostrar entre comillas.\n"
            ]
        },
        {
            "cell_type": "code",
            "execution_count": 10,
            "id": "a0ded3a0",
            "metadata": {},
            "outputs": [
                {
                    "name": "stdout",
                    "output_type": "stream",
                    "text": [
                        "Nunca pares de aprender\n"
                    ]
                }
            ],
            "source": [
                "print(\"Nunca pares de aprender\")"
            ]
        },
        {
            "cell_type": "markdown",
            "metadata": {},
            "source": [
                "## 2. Uso de la coma en `print`\n",
                "\n",
                "La coma dentro de la función `print` se usa para separar varios argumentos. Python añade automáticamente un espacio entre los argumentos.\n",
                "\n",
                "\n",
                "Por otro lado, al concatenar cadenas con el operador `+`, los elementos se unen sin ningún espacio adicional.\n",
                "\n",
                "\n",
                "Para añadir un espacio explícitamente al concatenar cadenas, inclúyelo dentro de las comillas.\n"
            ]
        },
        {
            "cell_type": "code",
            "execution_count": 11,
            "id": "5d890e4b",
            "metadata": {},
            "outputs": [
                {
                    "name": "stdout",
                    "output_type": "stream",
                    "text": [
                        "Nunca pares de aprender\n",
                        "Nuncaparesdeaprender\n",
                        "Nunca pares de aprender\n"
                    ]
                }
            ],
            "source": [
                "print(\"Nunca\", \"pares\", \"de\", \"aprender\")\n",
                "\n",
                "print(\"Nunca\" + \"pares\" + \"de\" + \"aprender\")\n",
                "\n",
                "print(\"Nunca\" + \" \" + \"pares\" + \" \" + \"de\" + \" \" + \"aprender\")"
            ]
        },
        {
            "cell_type": "markdown",
            "metadata": {},
            "source": [
                "## 3. Uso de `sep`\n",
                "\n",
                "El parámetro `sep` permite especificar cómo separar los elementos al imprimir."
            ]
        },
        {
            "cell_type": "code",
            "execution_count": 12,
            "id": "8bb63095",
            "metadata": {},
            "outputs": [
                {
                    "name": "stdout",
                    "output_type": "stream",
                    "text": [
                        "Nunca, pares, de, aprender\n"
                    ]
                }
            ],
            "source": [
                "print(\"Nunca\", \"pares\", \"de\", \"aprender\", sep=\", \")"
            ]
        },
        {
            "cell_type": "markdown",
            "metadata": {},
            "source": [
                "## 4. Uso de `end`\n",
                "\n",
                "El parámetro `end` cambia lo que se imprime al final de la llamada a `print`. Por defecto, `end` es un salto de línea (`\\n`).\n"
            ]
        },
        {
            "cell_type": "code",
            "execution_count": 13,
            "id": "8c309dd4",
            "metadata": {},
            "outputs": [
                {
                    "name": "stdout",
                    "output_type": "stream",
                    "text": [
                        "Nunca pares de aprender\n"
                    ]
                }
            ],
            "source": [
                "print(\"Nunca\", end=\" \")\n",
                "print(\"pares de aprender\")"
            ]
        },
        {
            "cell_type": "markdown",
            "metadata": {},
            "source": [
                "## 5. Impresión de variables\n",
                "\n",
                "Puedes usar `print` para mostrar el valor de las variables.\n"
            ]
        },
        {
            "cell_type": "code",
            "execution_count": 14,
            "id": "4d5264c2",
            "metadata": {},
            "outputs": [
                {
                    "name": "stdout",
                    "output_type": "stream",
                    "text": [
                        "Frase: Nunca pares de aprender Autor: Platzi\n"
                    ]
                }
            ],
            "source": [
                "frase = \"Nunca pares de aprender\"\n",
                "author = \"Platzi\"\n",
                "print(\"Frase:\", frase, \"Autor:\", author)"
            ]
        },
        {
            "cell_type": "markdown",
            "metadata": {},
            "source": [
                "## 6. Uso de formato con `f-strings`\n",
                "\n",
                "Las `f-strings` permiten insertar expresiones dentro de cadenas de texto."
            ]
        },
        {
            "cell_type": "code",
            "execution_count": 15,
            "id": "89974b69",
            "metadata": {},
            "outputs": [
                {
                    "name": "stdout",
                    "output_type": "stream",
                    "text": [
                        "Frase: Nunca pares de aprender, Autor: Platzi\n"
                    ]
                }
            ],
            "source": [
                "frase = \"Nunca pares de aprender\"\n",
                "author = \"Platzi\"\n",
                "print(f\"Frase: {frase}, Autor: {author}\")"
            ]
        },
        {
            "cell_type": "markdown",
            "metadata": {},
            "source": [
                "## 7. Uso de formato con `format`\n",
                "\n",
                "El método `format` es otra forma de insertar valores en cadenas de texto."
            ]
        },
        {
            "cell_type": "code",
            "execution_count": 16,
            "id": "59810010",
            "metadata": {},
            "outputs": [
                {
                    "name": "stdout",
                    "output_type": "stream",
                    "text": [
                        "Frase: Nunca pares de aprender, Autor: Platzi\n"
                    ]
                }
            ],
            "source": [
                "frase = \"Nunca pares de aprender\"\n",
                "author = \"Platzi\"\n",
                "print(\"Frase: {}, Autor: {}\".format(frase, author))"
            ]
        },
        {
            "cell_type": "markdown",
            "metadata": {},
            "source": [
                "## 8. Impresión con formato específico\n",
                "\n",
                "Puedes controlar el formato de los números al imprimir."
            ]
        },
        {
            "cell_type": "code",
            "execution_count": 17,
            "id": "50110d1d",
            "metadata": {},
            "outputs": [
                {
                    "name": "stdout",
                    "output_type": "stream",
                    "text": [
                        "Valor: 3.14\n"
                    ]
                }
            ],
            "source": [
                "valor = 3.14159\n",
                "print(\"Valor: {:.2f}\".format(valor))"
            ]
        },
        {
            "cell_type": "markdown",
            "metadata": {},
            "source": [
                "## 9. Saltos de línea y caracteres especiales\n",
                "\n",
                "### Saltos de línea\n",
                "Los saltos de línea en Python se indican con la secuencia de escape `\\n`.\n",
                "\n",
                "### Comillas dentro de cadenas\n",
                "Para imprimir comillas dentro de una cadena, usa secuencias de escape.\n",
                "\n",
                "### Rutas de archivo en Windows\n",
                "Para imprimir rutas de archivo, usa secuencias de escape para las barras invertidas."
            ]
        },
        {
            "cell_type": "code",
            "execution_count": 18,
            "id": "bcf96039",
            "metadata": {},
            "outputs": [
                {
                    "name": "stdout",
                    "output_type": "stream",
                    "text": [
                        "Hola\n",
                        "mundo\n",
                        "Hola soy 'Roony'\n",
                        "La ruta de archivo es: C:\\Users\\Usuario\\Desktop\\archivo.txt\n"
                    ]
                }
            ],
            "source": [
                "print(\"Hola\\nmundo\")\n",
                "print('Hola soy \\'Roony\\'')\n",
                "print(\"La ruta de archivo es: C:\\\\Users\\\\Usuario\\\\Desktop\\\\archivo.txt\")"
            ]
        },
        {
            "cell_type": "markdown",
            "id": "2e7071ef",
            "metadata": {},
            "source": [
                "###### creditos: Carli, curso de platzi"
            ]
        }
    ],
    "metadata": {
        "kernelspec": {
            "display_name": "Python 3",
            "language": "python",
            "name": "python3"
        },
        "language_info": {
            "codemirror_mode": {
                "name": "ipython",
                "version": 3
            },
            "file_extension": ".py",
            "mimetype": "text/x-python",
            "name": "python",
            "nbconvert_exporter": "python",
            "pygments_lexer": "ipython3",
            "version": "3.13.3"
        }
    },
    "nbformat": 4,
    "nbformat_minor": 5
}
