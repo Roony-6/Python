{
 "cells": [
  {
   "cell_type": "markdown",
   "id": "12283c2f",
   "metadata": {},
   "source": [
    "# Importar Módulos Necesarios\n",
    "En esta sección, importaremos los módulos necesarios para trabajar con iteradores y generadores. Aunque no todos los ejemplos requieren módulos externos, utilizaremos `itertools` para ejemplos avanzados."
   ]
  },
  {
   "cell_type": "code",
   "execution_count": 1,
   "id": "f1e396f4",
   "metadata": {},
   "outputs": [],
   "source": [
    "# Importar Módulos Necesarios\n",
    "import itertools"
   ]
  },
  {
   "cell_type": "markdown",
   "id": "badcb5f7",
   "metadata": {},
   "source": [
    "# Concepto de Iteradores\n",
    "Un iterador en Python es un objeto que implementa los métodos `__iter__()` y `__next__()`. Los iteradores permiten recorrer elementos de una colección, como listas o tuplas, uno a la vez.\n",
    "\n",
    "### Características principales:\n",
    "- Los iteradores son objetos que representan un flujo de datos.\n",
    "- Se utilizan comúnmente en bucles `for`.\n",
    "- Una vez que se consume un iterador, no se puede reiniciar (a menos que se cree uno nuevo)."
   ]
  },
  {
   "cell_type": "code",
   "execution_count": 2,
   "id": "c0e3f229",
   "metadata": {},
   "outputs": [
    {
     "name": "stdout",
     "output_type": "stream",
     "text": [
      "1\n",
      "2\n"
     ]
    }
   ],
   "source": [
    "# Ejemplo básico de iteradores\n",
    "# Crear una lista\n",
    "mi_lista = [1, 2, 3, 4]\n",
    "\n",
    "# Convertir la lista en un iterador\n",
    "mi_iterador = iter(mi_lista)\n",
    "\n",
    "# Usar el método __next__() para obtener elementos\n",
    "print(next(mi_iterador))  # Salida: 1\n",
    "print(next(mi_iterador))  # Salida: 2"
   ]
  },
  {
   "cell_type": "markdown",
   "id": "08d84235",
   "metadata": {},
   "source": [
    "# Creación de un Iterador Personalizado\n",
    "Podemos crear nuestros propios iteradores definiendo una clase que implemente los métodos `__iter__()` y `__next__()`.\n",
    "\n",
    "### Ejemplo:\n",
    "Crearemos un iterador personalizado que genere números desde 1 hasta un límite especificado."
   ]
  },
  {
   "cell_type": "code",
   "execution_count": 3,
   "id": "6cb4fae2",
   "metadata": {},
   "outputs": [
    {
     "name": "stdout",
     "output_type": "stream",
     "text": [
      "1\n",
      "2\n",
      "3\n",
      "4\n",
      "5\n"
     ]
    }
   ],
   "source": [
    "# Creación de un iterador personalizado\n",
    "class Contador:\n",
    "    def __init__(self, limite):\n",
    "        self.limite = limite\n",
    "        self.actual = 0\n",
    "\n",
    "    def __iter__(self):\n",
    "        return self\n",
    "\n",
    "    def __next__(self):\n",
    "        if self.actual < self.limite:\n",
    "            self.actual += 1\n",
    "            return self.actual\n",
    "        else:\n",
    "            raise StopIteration\n",
    "\n",
    "# Usar el iterador personalizado\n",
    "mi_contador = Contador(5)\n",
    "for numero in mi_contador:\n",
    "    print(numero)  # Salida: 1, 2, 3, 4, 5"
   ]
  },
  {
   "cell_type": "markdown",
   "id": "7103da66",
   "metadata": {},
   "source": [
    "# Uso de Generadores\n",
    "Un generador es una función especial en Python que produce una secuencia de valores de forma perezosa, es decir, uno a la vez y solo cuando se solicita.\n",
    "\n",
    "### Ventajas de los generadores:\n",
    "- Consumen menos memoria que las listas, ya que no almacenan todos los valores en memoria.\n",
    "- Son ideales para trabajar con grandes volúmenes de datos o flujos infinitos."
   ]
  },
  {
   "cell_type": "code",
   "execution_count": 4,
   "id": "ccfdba31",
   "metadata": {},
   "outputs": [
    {
     "name": "stdout",
     "output_type": "stream",
     "text": [
      "1\n",
      "2\n",
      "3\n"
     ]
    }
   ],
   "source": [
    "# Ejemplo básico de generador\n",
    "def generador_simple():\n",
    "    yield 1\n",
    "    yield 2\n",
    "    yield 3\n",
    "\n",
    "# Usar el generador\n",
    "for valor in generador_simple():\n",
    "    print(valor)  # Salida: 1, 2, 3"
   ]
  },
  {
   "cell_type": "markdown",
   "id": "96a4c105",
   "metadata": {},
   "source": [
    "# Generadores con `yield`\n",
    "La palabra clave `yield` se utiliza en lugar de `return` en una función para convertirla en un generador. Cada vez que se llama a `yield`, la función \"pausa\" su estado y puede reanudarse más tarde.\n",
    "\n",
    "### Ejemplo:\n",
    "Crearemos un generador que produzca una secuencia de números pares."
   ]
  },
  {
   "cell_type": "code",
   "execution_count": 5,
   "id": "6e3f741d",
   "metadata": {},
   "outputs": [
    {
     "name": "stdout",
     "output_type": "stream",
     "text": [
      "0\n",
      "2\n",
      "4\n",
      "6\n",
      "8\n"
     ]
    }
   ],
   "source": [
    "# Generador que produce números pares\n",
    "def generador_pares(limite):\n",
    "    for numero in range(limite):\n",
    "        if numero % 2 == 0:\n",
    "            yield numero\n",
    "\n",
    "# Usar el generador\n",
    "for par in generador_pares(10):\n",
    "    print(par)  # Salida: 0, 2, 4, 6, 8"
   ]
  },
  {
   "cell_type": "markdown",
   "id": "842bbb8b",
   "metadata": {},
   "source": [
    "# Expresiones Generadoras\n",
    "Las expresiones generadoras son una forma compacta de crear generadores en una sola línea, similar a las comprensiones de listas pero con paréntesis en lugar de corchetes.\n",
    "\n",
    "### Ejemplo:\n",
    "Crearemos una expresión generadora para calcular los cuadrados de números."
   ]
  },
  {
   "cell_type": "code",
   "execution_count": 6,
   "id": "15723cf2",
   "metadata": {},
   "outputs": [
    {
     "name": "stdout",
     "output_type": "stream",
     "text": [
      "0\n",
      "1\n",
      "4\n",
      "9\n",
      "16\n"
     ]
    }
   ],
   "source": [
    "# Expresión generadora para calcular cuadrados\n",
    "cuadrados = (x**2 for x in range(5))\n",
    "\n",
    "# Usar la expresión generadora\n",
    "for cuadrado in cuadrados:\n",
    "    print(cuadrado)  # Salida: 0, 1, 4, 9, 16"
   ]
  }
 ],
 "metadata": {
  "kernelspec": {
   "display_name": "Python 3",
   "language": "python",
   "name": "python3"
  },
  "language_info": {
   "codemirror_mode": {
    "name": "ipython",
    "version": 3
   },
   "file_extension": ".py",
   "mimetype": "text/x-python",
   "name": "python",
   "nbconvert_exporter": "python",
   "pygments_lexer": "ipython3",
   "version": "3.13.3"
  }
 },
 "nbformat": 4,
 "nbformat_minor": 5
}
