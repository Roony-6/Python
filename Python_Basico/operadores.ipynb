{
 "cells": [
  {
   "cell_type": "markdown",
   "id": "949d7d7f",
   "metadata": {},
   "source": [
    "# Operadores en Python\n",
    "\n",
    "En Python, los operadores son símbolos o palabras clave que se utilizan para realizar operaciones sobre valores y variables. Se dividen en varias categorías según su funcionalidad.\n",
    "\n",
    "---\n",
    "\n",
    "## 1. Operadores Aritméticos (Básicos)\n",
    "\n",
    "Los operadores aritméticos se utilizan para realizar operaciones matemáticas básicas.\n",
    "\n",
    "| Operador | Descripción         | Ejemplo         | Resultado |\n",
    "|----------|---------------------|-----------------|-----------|\n",
    "| `+`      | Suma               | `5 + 3`         | `8`       |\n",
    "| `-`      | Resta              | `5 - 3`         | `2`       |\n",
    "| `*`      | Multiplicación      | `5 * 3`         | `15`      |\n",
    "| `/`      | División            | `5 / 2`         | `2.5`     |\n",
    "| `//`     | División entera     | `5 // 2`        | `2`       |\n",
    "| `%`      | Módulo (residuo)    | `5 % 2`         | `1`       |\n",
    "| `**`     | Potencia            | `5 ** 2`        | `25`      \n"
   ]
  },
  {
   "cell_type": "code",
   "execution_count": 5,
   "id": "453d4732",
   "metadata": {},
   "outputs": [
    {
     "name": "stdout",
     "output_type": "stream",
     "text": [
      "13\n",
      "7\n",
      "30\n",
      "3.3333333333333335\n",
      "3\n",
      "1\n",
      "1000\n"
     ]
    }
   ],
   "source": [
    "# Ejemplo de operadores aritméticos\n",
    "a = 10\n",
    "b = 3\n",
    "print(a + b)  # Suma\n",
    "print(a - b)  # Resta\n",
    "print(a * b)  # Multiplicación\n",
    "print(a / b)  # División\n",
    "print(a // b) # División entera\n",
    "print(a % b)  # Módulo\n",
    "print(a ** b) # Potencia"
   ]
  },
  {
   "cell_type": "markdown",
   "id": "158f3b04",
   "metadata": {},
   "source": [
    "## 2. Operadores de Comparación\n",
    "\n",
    "Los operadores de comparación se utilizan para comparar dos valores y devuelven un valor booleano (`True` o `False`).\n",
    "\n",
    "| Operador | Descripción        | Ejemplo   | Resultado |\n",
    "|----------|--------------------|-----------|-----------|\n",
    "| `==`     | Igual a            | `5 == 3`  | `False`   |\n",
    "| `!=`     | Diferente de       | `5 != 3`  | `True`    |\n",
    "| `>`      | Mayor que          | `5 > 3`   | `True`    |\n",
    "| `<`      | Menor que          | `5 < 3`   | `False`   |\n",
    "| `>=`     | Mayor o igual que  | `5 >= 3`  | `True`    |\n",
    "| `<=`     | Menor o igual que  | `5 <= 3`  | `False`   |\n"
   ]
  },
  {
   "cell_type": "code",
   "execution_count": 6,
   "id": "aee179ff",
   "metadata": {},
   "outputs": [
    {
     "name": "stdout",
     "output_type": "stream",
     "text": [
      "False\n",
      "True\n",
      "True\n",
      "False\n",
      "True\n",
      "False\n"
     ]
    }
   ],
   "source": [
    "# Ejemplo de operadores de comparación\n",
    "x = 5\n",
    "y = 3\n",
    "print(x == y)  # Igual a\n",
    "print(x != y)  # Diferente de\n",
    "print(x > y)   # Mayor que\n",
    "print(x < y)   # Menor que\n",
    "print(x >= y)  # Mayor o igual que\n",
    "print(x <= y)  # Menor o igual que"
   ]
  },
  {
   "cell_type": "markdown",
   "id": "092119e6",
   "metadata": {},
   "source": [
    "## 3. Operadores Lógicos\n",
    "\n",
    "Los operadores lógicos se utilizan para combinar expresiones condicionales.\n",
    "\n",
    "| Operador | Descripción                                        | Ejemplo                   | Resultado |\n",
    "|----------|----------------------------------------------------|---------------------------|-----------|\n",
    "| `and`    | Devuelve `True` si **ambas** condiciones son verdaderas | `(5 > 3) and (3 > 1)`      | `True`    |\n",
    "| `or`     | Devuelve `True` si **al menos una** condición es verdadera | `(5 > 3) or (3 < 1)`       | `True`    |\n",
    "| `not`    | Invierte el valor lógico                           | `not(5 > 3)`              | `False`   |\n"
   ]
  },
  {
   "cell_type": "code",
   "execution_count": 7,
   "id": "35f0b3c9",
   "metadata": {},
   "outputs": [
    {
     "name": "stdout",
     "output_type": "stream",
     "text": [
      "False\n",
      "True\n",
      "False\n"
     ]
    }
   ],
   "source": [
    "# Ejemplo de operadores lógicos\n",
    "a = True\n",
    "b = False\n",
    "print(a and b)  # False\n",
    "print(a or b)   # True\n",
    "print(not a)    # False"
   ]
  },
  {
   "cell_type": "markdown",
   "id": "39a87058",
   "metadata": {},
   "source": [
    "## 4. Operadores de Asignación\n",
    "\n",
    "Los operadores de asignación se utilizan para asignar valores a las variables.\n",
    "\n",
    "| Operador | Descripción                     | Ejemplo     | Resultado      |\n",
    "|----------|----------------------------------|-------------|----------------|\n",
    "| `=`      | Asignación                       | `x = 5`     | `x = 5`        |\n",
    "| `+=`     | Suma y asignación                | `x += 3`    | `x = x + 3`    |\n",
    "| `-=`     | Resta y asignación               | `x -= 3`    | `x = x - 3`    |\n",
    "| `*=`     | Multiplicación y asignación      | `x *= 3`    | `x = x * 3`    |\n",
    "| `/=`     | División y asignación            | `x /= 3`    | `x = x / 3`    |\n",
    "| `//=`    | División entera y asignación     | `x //= 3`   | `x = x // 3`   |\n",
    "| `%=`     | Módulo y asignación              | `x %= 3`    | `x = x % 3`    |\n",
    "| `**=`    | Potencia y asignación            | `x **= 3`   | `x = x ** 3`   |\n"
   ]
  },
  {
   "cell_type": "code",
   "execution_count": 8,
   "id": "07e9aca9",
   "metadata": {},
   "outputs": [
    {
     "name": "stdout",
     "output_type": "stream",
     "text": [
      "8\n",
      "16\n"
     ]
    }
   ],
   "source": [
    "# Ejemplo de operadores de asignación\n",
    "x = 5\n",
    "x += 3  # x = x + 3\n",
    "print(x)\n",
    "x *= 2  # x = x * 2\n",
    "print(x)"
   ]
  },
  {
   "cell_type": "markdown",
   "id": "24082e53",
   "metadata": {},
   "source": [
    "## 4. Operadores de Asignación\n",
    "\n",
    "Los operadores de asignación se utilizan para asignar valores a las variables.\n",
    "\n",
    "| Operador | Descripción                     | Ejemplo     | Resultado      |\n",
    "|----------|----------------------------------|-------------|----------------|\n",
    "| `=`      | Asignación                       | `x = 5`     | `x = 5`        |\n",
    "| `+=`     | Suma y asignación                | `x += 3`    | `x = x + 3`    |\n",
    "| `-=`     | Resta y asignación               | `x -= 3`    | `x = x - 3`    |\n",
    "| `*=`     | Multiplicación y asignación      | `x *= 3`    | `x = x * 3`    |\n",
    "| `/=`     | División y asignación            | `x /= 3`    | `x = x / 3`    |\n",
    "| `//=`    | División entera y asignación     | `x //= 3`   | `x = x // 3`   |\n",
    "| `%=`     | Módulo y asignación              | `x %= 3`    | `x = x % 3`    |\n",
    "| `**=`    | Potencia y asignación            | `x **= 3`   | `x = x ** 3`   |\n"
   ]
  },
  {
   "cell_type": "code",
   "execution_count": 9,
   "id": "d1254980",
   "metadata": {},
   "outputs": [
    {
     "name": "stdout",
     "output_type": "stream",
     "text": [
      "8\n",
      "16\n"
     ]
    }
   ],
   "source": [
    "# Ejemplo de operadores de asignación\n",
    "x = 5\n",
    "x += 3  # x = x + 3\n",
    "print(x)\n",
    "x *= 2  # x = x * 2\n",
    "print(x)"
   ]
  },
  {
   "cell_type": "markdown",
   "id": "4cd410d6",
   "metadata": {},
   "source": [
    "## 5. Operadores Avanzados\n",
    "\n",
    "### Operadores de Identidad\n",
    "\n",
    "Se utilizan para comparar si dos objetos son el mismo en memoria.\n",
    "\n",
    "| Operador  | Descripción                                    | Ejemplo     | Resultado |\n",
    "|-----------|------------------------------------------------|-------------|-----------|\n",
    "| `is`      | Devuelve `True` si ambos objetos son el mismo  | `x is y`    | `False`   |\n",
    "| `is not`  | Devuelve `True` si ambos objetos no son el mismo | `x is not y` | `True`    |\n"
   ]
  },
  {
   "cell_type": "code",
   "execution_count": 10,
   "id": "27b35845",
   "metadata": {},
   "outputs": [
    {
     "name": "stdout",
     "output_type": "stream",
     "text": [
      "False\n",
      "True\n"
     ]
    }
   ],
   "source": [
    "# Ejemplo de operadores de identidad\n",
    "x = [1, 2, 3]\n",
    "y = [1, 2, 3]\n",
    "print(x is y)       # False (diferentes objetos en memoria)\n",
    "print(x is not y)   # True"
   ]
  },
  {
   "cell_type": "markdown",
   "id": "224e1eab",
   "metadata": {},
   "source": [
    "### Operadores de Pertenencia\n",
    "\n",
    "Se utilizan para verificar si un valor está presente en una secuencia (como listas, cadenas, etc.).\n",
    "\n",
    "| Operador  | Descripción                                          | Ejemplo           | Resultado |\n",
    "|-----------|------------------------------------------------------|-------------------|-----------|\n",
    "| `in`      | Devuelve `True` si el valor está en la secuencia     | `\"a\" in \"abc\"`    | `True`    |\n",
    "| `not in`  | Devuelve `True` si el valor no está en la secuencia  | `\"d\" not in \"abc\"`| `True`    |\n"
   ]
  },
  {
   "cell_type": "code",
   "execution_count": 11,
   "id": "9eec90e8",
   "metadata": {},
   "outputs": [
    {
     "name": "stdout",
     "output_type": "stream",
     "text": [
      "True\n",
      "True\n"
     ]
    }
   ],
   "source": [
    "# Ejemplo de operadores de pertenencia\n",
    "texto = \"Hola mundo\"\n",
    "print(\"Hola\" in texto)      # True\n",
    "print(\"Python\" not in texto)  # True"
   ]
  }
 ],
 "metadata": {
  "kernelspec": {
   "display_name": "Python 3",
   "language": "python",
   "name": "python3"
  },
  "language_info": {
   "codemirror_mode": {
    "name": "ipython",
    "version": 3
   },
   "file_extension": ".py",
   "mimetype": "text/x-python",
   "name": "python",
   "nbconvert_exporter": "python",
   "pygments_lexer": "ipython3",
   "version": "3.13.3"
  }
 },
 "nbformat": 4,
 "nbformat_minor": 5
}
