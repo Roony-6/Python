{
    "cells": [
        {
            "cell_type": "markdown",
            "metadata": {},
            "source": [
                "# Estructuras Condicionales en Python\n",
                "\n",
                "Las estructuras condicionales permiten ejecutar diferentes bloques de código dependiendo de si una condición es verdadera o falsa. En Python, las principales estructuras condicionales son `if`, `elif` y `else`."
            ]
        },
        {
            "cell_type": "markdown",
            "metadata": {},
            "source": [
                "## `if`\n",
                "La estructura `if` se utiliza para ejecutar un bloque de código si una condición es verdadera."
            ]
        },
        {
            "cell_type": "code",
            "execution_count": 1,
            "metadata": {},
            "outputs": [
                {
                    "name": "stdout",
                    "output_type": "stream",
                    "text": [
                        "x es mayor que 5\n"
                    ]
                }
            ],
            "source": [
                "# Ejemplo de if\n",
                "x = 10\n",
                "if x > 5:\n",
                "    print(\"x es mayor que 5\")"
            ]
        },
        {
            "cell_type": "markdown",
            "metadata": {},
            "source": [
                "## `else`\n",
                "La estructura `else` se utiliza para ejecutar un bloque de código si la condición del `if` es falsa."
            ]
        },
        {
            "cell_type": "code",
            "execution_count": 2,
            "metadata": {},
            "outputs": [
                {
                    "name": "stdout",
                    "output_type": "stream",
                    "text": [
                        "x no es mayor que 5\n"
                    ]
                }
            ],
            "source": [
                "# Ejemplo de if-else\n",
                "x = 3\n",
                "if x > 5:\n",
                "    print(\"x es mayor que 5\")\n",
                "else:\n",
                "    print(\"x no es mayor que 5\")"
            ]
        },
        {
            "cell_type": "markdown",
            "metadata": {},
            "source": [
                "## `elif`\n",
                "La estructura `elif` (abreviatura de \"else if\") se utiliza para comprobar múltiples condiciones. Si una condición `if` es falsa, se evalúan las condiciones `elif` en orden."
            ]
        },
        {
            "cell_type": "code",
            "execution_count": 3,
            "metadata": {},
            "outputs": [
                {
                    "name": "stdout",
                    "output_type": "stream",
                    "text": [
                        "x es mayor que 5 pero menor o igual a 10\n"
                    ]
                }
            ],
            "source": [
                "# Ejemplo de if-elif-else\n",
                "x = 7\n",
                "if x > 10:\n",
                "    print(\"x es mayor que 10\")\n",
                "elif x > 5:\n",
                "    print(\"x es mayor que 5 pero menor o igual a 10\")\n",
                "else:\n",
                "    print(\"x es menor o igual a 5\")"
            ]
        },
        {
            "cell_type": "markdown",
            "metadata": {},
            "source": [
                "## Notas importantes\n",
                "- Puedes usar tantas estructuras `elif` como necesites.\n",
                "- El bloque `else` es opcional.\n",
                "- Python utiliza indentación para definir los bloques de código, por lo que es importante mantener la consistencia en el uso de espacios o tabulaciones."
            ]
        },
        {
            "cell_type": "markdown",
            "metadata": {},
            "source": [
                "### Ejercicio piedra, papel o tijera:\n"
            ]
        },
        {
            "cell_type": "code",
            "execution_count": 4,
            "metadata": {},
            "outputs": [
                {
                    "name": "stdout",
                    "output_type": "stream",
                    "text": [
                        "jugador 1 gana\n"
                    ]
                }
            ],
            "source": [
                "#USANDO SOLO CONDICIONALES\n",
                "jugador_1=input(\"Piedra, papel o tijera?\").lower()\n",
                "jugador_2=input(\"Piedra, papel o tijera?\").lower()\n",
                "\n",
                "opciones=[\"piedra\",\"papel\",\"tijera\"]\n",
                "\n",
                "if jugador_1==opciones[0]:\n",
                "    if jugador_2==opciones[1]:\n",
                "        print(\"jugador2 gana\")\n",
                "    elif jugador_2==opciones[2]:\n",
                "        print(\"jugador1 gana\")\n",
                "    else: print(\"empate\")\n",
                "elif jugador_1==opciones[1]:\n",
                "    if jugador_2==opciones[0]:\n",
                "        print(\"jugador 1 gana\")\n",
                "    elif jugador_2==opciones[2]:\n",
                "        print(\"jugador2 gana\")\n",
                "    else: print(\"empate\")   \n",
                "elif jugador_1==opciones[2]:\n",
                "    if jugador_2==opciones[0]:\n",
                "        print(\"jugador 1 gana\")\n",
                "    elif jugador_2==opciones[1]:\n",
                "        print(\"jugador2 gana\")\n",
                "    else: print(\"empate\")"
            ]
        },
        {
            "cell_type": "code",
            "execution_count": 13,
            "metadata": {},
            "outputs": [
                {
                    "name": "stdout",
                    "output_type": "stream",
                    "text": [
                        "El jugador 1 eligio: piedra\n",
                        "El jugador 2 eligio: papel\n",
                        "jugador 2 gana\n"
                    ]
                }
            ],
            "source": [
                "#Otra manera de resolver el ejercicio usando diccionarios\n",
                "opciones_de_ganar={\"piedra\": \"tijera\",\n",
                "                   \"papel\":\"piedra\",\n",
                "                   \"tijera\":\"papel\"\n",
                "}\n",
                "\n",
                "jugador_1=input(\"Piedra, papel o tijera?\").lower()\n",
                "jugador_2=input(\"Piedra, papel o tijera?\").lower()\n",
                "print(f\"El jugador 1 eligio: {jugador_1}\")\n",
                "print(f\"El jugador 2 eligio: {jugador_2}\")\n",
                "\n",
                "if jugador_1 not in opciones_de_ganar or jugador_2 not in opciones_de_ganar:\n",
                "    print(\"Por favor dame una opcion valida\")\n",
                "else:\n",
                "    if jugador_1==jugador_2:\n",
                "        print(\"empate\")\n",
                "    elif opciones_de_ganar[jugador_1]  == jugador_2:\n",
                "        print(\"Jugador 1 gana\")\n",
                "    elif opciones_de_ganar[jugador_2]==jugador_1:\n",
                "        print(\"jugador 2 gana\")\n",
                "\n",
                "     \n",
                "\n",
                "#elif jugador_1==opciones_de_ganar.get()\n"
            ]
        },
        {
            "cell_type": "code",
            "execution_count": null,
            "metadata": {},
            "outputs": [],
            "source": []
        }
    ],
    "metadata": {
        "kernelspec": {
            "display_name": "Python 3",
            "language": "python",
            "name": "python3"
        },
        "language_info": {
            "codemirror_mode": {
                "name": "ipython",
                "version": 3
            },
            "file_extension": ".py",
            "mimetype": "text/x-python",
            "name": "python",
            "nbconvert_exporter": "python",
            "pygments_lexer": "ipython3",
            "version": "3.13.3"
        }
    },
    "nbformat": 4,
    "nbformat_minor": 4
}
