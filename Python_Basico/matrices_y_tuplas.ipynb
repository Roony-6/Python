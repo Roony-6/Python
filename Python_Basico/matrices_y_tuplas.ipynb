{
    "cells": [
        {
            "cell_type": "markdown",
            "metadata": {},
            "source": [
                "# Matrices y Tuplas en Python"
            ]
        },
        {
            "cell_type": "markdown",
            "metadata": {},
            "source": [
                "## Matrices en Python\n",
                "\n",
                "En Python, no existe un tipo de dato específico para matrices como en otros lenguajes de programación. Sin embargo, podemos representarlas utilizando **listas anidadas**, donde cada sublista representa una fila de la matriz.\n",
                "\n",
                "### Crear y Manipular Matrices con Listas Anidadas\n",
                "Podemos crear una matriz utilizando listas anidadas y acceder a sus elementos mediante índices."
            ]
        },
        {
            "cell_type": "code",
            "execution_count": 6,
            "metadata": {},
            "outputs": [
                {
                    "name": "stdout",
                    "output_type": "stream",
                    "text": [
                        "Elemento en la fila 1, columna 2: 2\n",
                        "1 2 3 \n",
                        "4 5 6 \n",
                        "7 8 9 \n"
                    ]
                }
            ],
            "source": [
                "# Crear una matriz 3x3 utilizando listas anidadas\n",
                "matriz = [\n",
                "    [1, 2, 3],\n",
                "    [4, 5, 6],\n",
                "    [7, 8, 9]\n",
                "]\n",
                "\n",
                "# Acceder a un elemento específico (fila 1, columna 2)\n",
                "print(\"Elemento en la fila 1, columna 2:\", matriz[0][1])\n",
                "\n",
                "# Recorrer la matriz e imprimir sus elementos\n",
                "for fila in matriz:\n",
                "    for elemento in fila:\n",
                "        print(elemento, end=\" \")\n",
                "    print()"
            ]
        },
        {
            "cell_type": "markdown",
            "metadata": {},
            "source": [
                "## Tuplas en Python\n",
                "\n",
                "Las tuplas son estructuras de datos similares a las listas, pero **inmutables**. Esto significa que, una vez creadas, no se pueden modificar. Las tuplas son ideales para almacenar datos que no deben cambiar durante la ejecución del programa.\n",
                "\n",
                "### Características de las Tuplas:\n",
                "- Se definen utilizando paréntesis `()` o simplemente separando los elementos por comas.\n",
                "- Son inmutables: no se pueden agregar, eliminar ni modificar elementos después de su creación.\n",
                "- Pueden contener elementos de diferentes tipos.\n",
                "- Soportan operaciones como indexación, slicing y concatenación."
            ]
        },
        {
            "cell_type": "code",
            "execution_count": 7,
            "metadata": {},
            "outputs": [
                {
                    "name": "stdout",
                    "output_type": "stream",
                    "text": [
                        "Tupla: (10, 20, 30, 40)\n",
                        "Elemento en el índice 2: 30\n",
                        "Elementos del índice 1 al 3: (20, 30)\n"
                    ]
                }
            ],
            "source": [
                "# Crear una tupla\n",
                "mi_tupla = (10, 20, 30, 40)\n",
                "print(\"Tupla:\", mi_tupla)\n",
                "\n",
                "# Acceder a un elemento específico\n",
                "print(\"Elemento en el índice 2:\", mi_tupla[2])\n",
                "\n",
                "# Slicing en tuplas\n",
                "print(\"Elementos del índice 1 al 3:\", mi_tupla[1:3])"
            ]
        },
        {
            "cell_type": "markdown",
            "metadata": {},
            "source": [
                "### Operaciones con Tuplas\n",
                "Aunque las tuplas son inmutables, podemos realizar varias operaciones útiles con ellas:"
            ]
        },
        {
            "cell_type": "code",
            "execution_count": 8,
            "metadata": {},
            "outputs": [
                {
                    "name": "stdout",
                    "output_type": "stream",
                    "text": [
                        "Tupla concatenada: (1, 2, 3, 4, 5, 6)\n",
                        "Tupla repetida: (1, 2, 3, 1, 2, 3, 1, 2, 3)\n",
                        "¿El número 2 está en tupla1?: True\n"
                    ]
                }
            ],
            "source": [
                "# Concatenar dos tuplas\n",
                "tupla1 = (1, 2, 3)\n",
                "tupla2 = (4, 5, 6)\n",
                "tupla_concatenada = tupla1 + tupla2\n",
                "print(\"Tupla concatenada:\", tupla_concatenada)\n",
                "\n",
                "# Repetir una tupla\n",
                "tupla_repetida = tupla1 * 3\n",
                "print(\"Tupla repetida:\", tupla_repetida)\n",
                "\n",
                "# Verificar si un elemento está en la tupla\n",
                "print(\"¿El número 2 está en tupla1?:\", 2 in tupla1)"
            ]
        },
        {
            "cell_type": "markdown",
            "metadata": {},
            "source": [
                "## Diferencias entre Listas y Tuplas\n",
                "\n",
                "| Característica       | Listas                          | Tuplas                          |\n",
                "|----------------------|---------------------------------|---------------------------------|\n",
                "| Mutabilidad         | Mutables (se pueden modificar) | Inmutables (no se pueden modificar) |\n",
                "| Sintaxis            | Corchetes `[]`                 | Paréntesis `()`                 |\n",
                "| Rendimiento         | Más lentas                     | Más rápidas                     |\n",
                "| Uso                 | Datos que cambian frecuentemente | Datos constantes                |"
            ]
        },
        {
            "cell_type": "markdown",
            "metadata": {},
            "source": [
                "## Conclusión\n",
                " Ambas estructuras de datos son fundamentales para resolver problemas específicos y optimizar el manejo de datos en tus programas."
            ]
        }
    ],
    "metadata": {
        "kernelspec": {
            "display_name": "Python 3",
            "language": "python",
            "name": "python3"
        },
        "language_info": {
            "codemirror_mode": {
                "name": "ipython",
                "version": 3
            },
            "file_extension": ".py",
            "mimetype": "text/x-python",
            "name": "python",
            "nbconvert_exporter": "python",
            "pygments_lexer": "ipython3",
            "version": "3.8.5"
        }
    },
    "nbformat": 4,
    "nbformat_minor": 4
}
