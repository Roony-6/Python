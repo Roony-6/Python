{
 "cells": [
  {
   "cell_type": "markdown",
   "id": "777354d7",
   "metadata": {},
   "source": [
    "# Copiar Listas en Python \n",
    "En Python, las listas son estructuras de datos mutables, lo que significa que si asignamos una lista a otra variable, ambas apuntarán a la misma dirección de memoria. Esto puede causar problemas si modificamos una de las listas, ya que los cambios también afectarán a la otra.\n",
    "\n",
    "Para evitar este comportamiento, podemos realizar una **copia superficial** de la lista utilizando **slicing**. Esto crea una nueva lista que contiene los mismos elementos, pero en una dirección de memoria diferente.\n",
    "\n",
    "## Sintaxis de Slicing para Copiar Listas\n",
    "\n",
    "La sintaxis para copiar una lista con slicing es:\n",
    "\n",
    "```python\n",
    "nueva_lista = lista_original[:]"
   ]
  },
  {
   "cell_type": "code",
   "execution_count": 11,
   "id": "cf01f418",
   "metadata": {},
   "outputs": [
    {
     "name": "stdout",
     "output_type": "stream",
     "text": [
      "Lista original: [1, 2, 3, 4, 5]\n",
      "Lista copiada: [99, 2, 3, 4, 5]\n"
     ]
    }
   ],
   "source": [
    "# Lista original\n",
    "lista_original = [1, 2, 3, 4, 5]\n",
    "\n",
    "# Copiar la lista utilizando slicing\n",
    "lista_copiada = lista_original[:]\n",
    "\n",
    "# Modificar la lista copiada\n",
    "lista_copiada[0] = 99\n",
    "\n",
    "# Imprimir ambas listas\n",
    "print(\"Lista original:\", lista_original)  # La lista original no cambia\n",
    "print(\"Lista copiada:\", lista_copiada)    # Solo la lista copiada se modifica"
   ]
  },
  {
   "cell_type": "markdown",
   "id": "7372b517",
   "metadata": {},
   "source": [
    "## Verificacion de Direcciones de Memoria\n",
    "Podemos verificar que ambas listas tienen direcciones de memoria diferentes utilizando la función id():"
   ]
  },
  {
   "cell_type": "code",
   "execution_count": 12,
   "id": "9011041a",
   "metadata": {},
   "outputs": [
    {
     "name": "stdout",
     "output_type": "stream",
     "text": [
      "ID de lista_original: 2494908233088\n",
      "ID de lista_copiada: 2494906889664\n"
     ]
    }
   ],
   "source": [
    "print(\"ID de lista_original:\", id(lista_original))\n",
    "print(\"ID de lista_copiada:\", id(lista_copiada))"
   ]
  },
  {
   "cell_type": "markdown",
   "id": "b0e773b3",
   "metadata": {},
   "source": [
    "## Otras maneras de copiar listas: \n"
   ]
  },
  {
   "cell_type": "markdown",
   "id": "635c657d",
   "metadata": {},
   "source": [
    "## 1. Usar el método copy()\n",
    "El método copy() crea una copia superficial de la lista."
   ]
  },
  {
   "cell_type": "code",
   "execution_count": 13,
   "id": "3018c26c",
   "metadata": {},
   "outputs": [
    {
     "name": "stdout",
     "output_type": "stream",
     "text": [
      "Lista original: [1, 2, 3, 4, 5]\n",
      "Lista copiada: [99, 2, 3, 4, 5]\n"
     ]
    }
   ],
   "source": [
    "# Lista original\n",
    "lista_original = [1, 2, 3, 4, 5]\n",
    "\n",
    "# Copiar la lista utilizando copy()\n",
    "lista_copiada = lista_original.copy()\n",
    "\n",
    "# Modificar la lista copiada\n",
    "lista_copiada[0] = 99\n",
    "\n",
    "# Imprimir ambas listas\n",
    "print(\"Lista original:\", lista_original)  # La lista original no cambia\n",
    "print(\"Lista copiada:\", lista_copiada)    # Solo la lista copiada se modifica"
   ]
  },
  {
   "cell_type": "markdown",
   "id": "c062daac",
   "metadata": {},
   "source": [
    "## 2. Usar la función list()\n",
    "La función list() también crea una copia superficial de la lista."
   ]
  },
  {
   "cell_type": "code",
   "execution_count": 14,
   "id": "086b8e91",
   "metadata": {},
   "outputs": [
    {
     "name": "stdout",
     "output_type": "stream",
     "text": [
      "Lista original: [1, 2, 3, 4, 5]\n",
      "Lista copiada: [99, 2, 3, 4, 5]\n"
     ]
    }
   ],
   "source": [
    "# Lista original\n",
    "lista_original = [1, 2, 3, 4, 5]\n",
    "\n",
    "# Copiar la lista utilizando list()\n",
    "lista_copiada = list(lista_original)\n",
    "\n",
    "# Modificar la lista copiada\n",
    "lista_copiada[0] = 99\n",
    "\n",
    "# Imprimir ambas listas\n",
    "print(\"Lista original:\", lista_original)  # La lista original no cambia\n",
    "print(\"Lista copiada:\", lista_copiada)    # Solo la lista copiada se modifica"
   ]
  },
  {
   "cell_type": "markdown",
   "id": "d01026bf",
   "metadata": {},
   "source": [
    "## Conclusión\n",
    "\n",
    "En Python, copiar listas es una tarea común que puede realizarse de diferentes maneras dependiendo de las necesidades específicas. Si solo necesitas una copia superficial, métodos como **slicing (`[:]`)**, **`copy()`**, o **`list()`** son opciones rápidas y eficientes.\n",
    "\n",
    "Elegir el método adecuado para copiar listas te permitirá trabajar de manera más segura y eficiente con estructuras de datos mutables."
   ]
  }
 ],
 "metadata": {
  "kernelspec": {
   "display_name": "Python 3",
   "language": "python",
   "name": "python3"
  },
  "language_info": {
   "codemirror_mode": {
    "name": "ipython",
    "version": 3
   },
   "file_extension": ".py",
   "mimetype": "text/x-python",
   "name": "python",
   "nbconvert_exporter": "python",
   "pygments_lexer": "ipython3",
   "version": "3.13.3"
  }
 },
 "nbformat": 4,
 "nbformat_minor": 5
}
